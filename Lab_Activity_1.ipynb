{
  "nbformat": 4,
  "nbformat_minor": 0,
  "metadata": {
    "colab": {
      "provenance": [],
      "authorship_tag": "ABX9TyP4+7FiJhArEJahcdj6HaCM",
      "include_colab_link": true
    },
    "kernelspec": {
      "name": "python3",
      "display_name": "Python 3"
    },
    "language_info": {
      "name": "python"
    }
  },
  "cells": [
    {
      "cell_type": "markdown",
      "metadata": {
        "id": "view-in-github",
        "colab_type": "text"
      },
      "source": [
        "<a href=\"https://colab.research.google.com/github/daddygi/python-review-google-collab/blob/main/Lab_Activity_1.ipynb\" target=\"_parent\"><img src=\"https://colab.research.google.com/assets/colab-badge.svg\" alt=\"Open In Colab\"/></a>"
      ]
    },
    {
      "cell_type": "markdown",
      "source": [
        "# Python Review using Google Colaboratory"
      ],
      "metadata": {
        "id": "K0E8dCWvX0_N"
      }
    },
    {
      "cell_type": "markdown",
      "source": [
        "1. Perform a basic calculation by writing 2 numbers with an operand in the middle"
      ],
      "metadata": {
        "id": "7PDohWwAX_s8"
      }
    },
    {
      "cell_type": "code",
      "source": [
        "10 + 6"
      ],
      "metadata": {
        "colab": {
          "base_uri": "https://localhost:8080/"
        },
        "id": "6aJmCpVSYEJh",
        "outputId": "be4ddef9-87d8-4418-af76-9acd9ce86a81"
      },
      "execution_count": 1,
      "outputs": [
        {
          "output_type": "execute_result",
          "data": {
            "text/plain": [
              "16"
            ]
          },
          "metadata": {},
          "execution_count": 1
        }
      ]
    },
    {
      "cell_type": "markdown",
      "source": [
        "2. Assign the 2 numbers in a variable, then perform the calculation and print the result"
      ],
      "metadata": {
        "id": "qhddm43IYRmB"
      }
    },
    {
      "cell_type": "code",
      "source": [
        "x = 2\n",
        "y = 4\n",
        "print(f\"The sum is: {x + y}\")"
      ],
      "metadata": {
        "colab": {
          "base_uri": "https://localhost:8080/"
        },
        "id": "AGAvo7skYUsG",
        "outputId": "49f23e04-396d-4fdc-a9a3-3923cd66357d"
      },
      "execution_count": 2,
      "outputs": [
        {
          "output_type": "stream",
          "name": "stdout",
          "text": [
            "The sum is: 6\n"
          ]
        }
      ]
    },
    {
      "cell_type": "markdown",
      "source": [
        "3. Using conditional statements, determine if the result will be Positive / Negative / 0 (use if/else statements)"
      ],
      "metadata": {
        "id": "TlhSESDzYjmE"
      }
    },
    {
      "cell_type": "code",
      "source": [
        "def check_int(num):\n",
        "  if (num > 0):\n",
        "    print(\"Positive\")\n",
        "  elif(num < 0):\n",
        "    print(\"Negative\")\n",
        "  else: print(\"Number = 0\")\n",
        "check_int(int(input(\"Enter a number: \")))\n",
        "check_int(int(input(\"Enter a number: \")))\n",
        "check_int(int(input(\"Enter a number: \")))"
      ],
      "metadata": {
        "colab": {
          "base_uri": "https://localhost:8080/"
        },
        "id": "1v-EqZjdYk5E",
        "outputId": "66477b15-1166-4edc-d12a-958636c2d372"
      },
      "execution_count": 10,
      "outputs": [
        {
          "output_type": "stream",
          "name": "stdout",
          "text": [
            "Enter a number: 5\n",
            "Positive\n",
            "Enter a number: -2\n",
            "Negative\n",
            "Enter a number: 0\n",
            "Number = 0\n"
          ]
        }
      ]
    },
    {
      "cell_type": "markdown",
      "source": [
        "4. Let the user input a name then print an inspiring message for it"
      ],
      "metadata": {
        "id": "gESb5hmxaEWT"
      }
    },
    {
      "cell_type": "code",
      "source": [
        "name = input(\"Input a name: \")\n",
        "text = f\"{name}, never back down never what?! NEVER GIVE UP!\"\n",
        "print(text)"
      ],
      "metadata": {
        "colab": {
          "base_uri": "https://localhost:8080/"
        },
        "id": "dlpYv1-haHWh",
        "outputId": "68596a17-be28-4c13-86f3-6065bda44c50"
      },
      "execution_count": 17,
      "outputs": [
        {
          "output_type": "stream",
          "name": "stdout",
          "text": [
            "Input a name: Gian\n",
            "Gian, never back down never what?! NEVER GIVE UP!\n"
          ]
        }
      ]
    },
    {
      "cell_type": "markdown",
      "source": [
        "5. Print the inspiring message 5 or more times using loops"
      ],
      "metadata": {
        "id": "ujHFCAbXaTUA"
      }
    },
    {
      "cell_type": "code",
      "source": [
        "for i in range(5):\n",
        "  print(f\"{i + 1}. {text}\")"
      ],
      "metadata": {
        "colab": {
          "base_uri": "https://localhost:8080/"
        },
        "id": "Y544-vuwaVlQ",
        "outputId": "31156d5a-c57c-4220-b8d9-f62c71472e12"
      },
      "execution_count": 18,
      "outputs": [
        {
          "output_type": "stream",
          "name": "stdout",
          "text": [
            "1. Gian, never back down never what?! NEVER GIVE UP!\n",
            "2. Gian, never back down never what?! NEVER GIVE UP!\n",
            "3. Gian, never back down never what?! NEVER GIVE UP!\n",
            "4. Gian, never back down never what?! NEVER GIVE UP!\n",
            "5. Gian, never back down never what?! NEVER GIVE UP!\n"
          ]
        }
      ]
    },
    {
      "cell_type": "markdown",
      "source": [
        "6. Create a simple python program that will accept multiple data entries (Quiz 1, Quiz 2, LabAct1, LabAct2, LabAct3, Attendance, Exam), then compute for the term grade using the formula (((QAVE * 0.6)+(LabAVE *0.4))*0.4) + (Att * 0.1) + (Exam *0.5) . Determine whether the grade is passed or failed\n",
        "\n"
      ],
      "metadata": {
        "id": "N9G1MwHmanik"
      }
    },
    {
      "cell_type": "code",
      "source": [
        "q1 = int(input(\"Quiz 1: \"))\n",
        "q2 = int(input(\"Quiz 2: \"))\n",
        "l1 = int(input(\"Lab Activity 1: \"))\n",
        "l2 = int(input(\"Lab Activity 2: \"))\n",
        "l3 = int(input(\"Lab Activity 3: \"))\n",
        "at = int(input(\"Attendace: \"))\n",
        "ex = int(input(\"Exam: \"))\n",
        "\n",
        "def compute_grade(q1,q2,l1,l2,l3,at,ex):\n",
        "  quiz_ave = float((q1 + q2) / 2)\n",
        "  lab_ave = float((l1 + l2 + l3) / 3)\n",
        "  grade = float(((quiz_ave * 0.6) + (lab_ave * 0.4))* 0.4 + (at * 0.1) + (ex * 0.5))\n",
        "  print(f\"Your grade is {grade}\")\n",
        "\n",
        "  if (grade >= 75):\n",
        "    print(\"Passed\")\n",
        "  else:\n",
        "    print(\"Failed\")\n",
        "compute_grade(q1, q2, l1, l2, l3, at, ex)"
      ],
      "metadata": {
        "colab": {
          "base_uri": "https://localhost:8080/"
        },
        "id": "IXX7jwxpbmCO",
        "outputId": "bc9e41b6-a886-423f-a2a6-0dd20c16b91f"
      },
      "execution_count": 23,
      "outputs": [
        {
          "output_type": "stream",
          "name": "stdout",
          "text": [
            "Quiz 1: 90\n",
            "Quiz 2: 70\n",
            "Lab Activity 1: 99\n",
            "Lab Activity 2: 87\n",
            "Lab Activity 3: 75\n",
            "Attendace: 75\n",
            "Exam: 96\n",
            "Your grade is 88.62\n",
            "Passed\n"
          ]
        }
      ]
    }
  ]
}